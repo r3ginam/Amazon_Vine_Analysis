{
  "nbformat": 4,
  "nbformat_minor": 0,
  "metadata": {
    "colab": {
      "name": "Vine_Review_Analysis.ipynb",
      "provenance": [],
      "collapsed_sections": [],
      "authorship_tag": "ABX9TyNT+4IFaFTTRKTDeSvB4C5K",
      "include_colab_link": true
    },
    "kernelspec": {
      "name": "python3",
      "display_name": "Python 3"
    },
    "language_info": {
      "name": "python"
    }
  },
  "cells": [
    {
      "cell_type": "markdown",
      "metadata": {
        "id": "view-in-github",
        "colab_type": "text"
      },
      "source": [
        "<a href=\"https://colab.research.google.com/github/r3ginam/Amazon_Vine_Analysis/blob/main/Vine_Review_Analysis.ipynb\" target=\"_parent\"><img src=\"https://colab.research.google.com/assets/colab-badge.svg\" alt=\"Open In Colab\"/></a>"
      ]
    },
    {
      "cell_type": "code",
      "metadata": {
        "id": "V58rxea0HqSa",
        "colab": {
          "base_uri": "https://localhost:8080/"
        },
        "outputId": "b04de1c1-acd9-4ca6-8ac5-a91ea72740e7"
      },
      "source": [
        "import os\n",
        "# Find the latest version of spark 2.0  from http://www-us.apache.org/dist/spark/ and enter as the spark version\n",
        "# For example:\n",
        "# spark_version = 'spark-3.0.0'\n",
        "spark_version = 'spark-3.1.1'\n",
        "os.environ['SPARK_VERSION']=spark_version\n",
        "\n",
        "# Install Spark and Java\n",
        "!apt-get update\n",
        "!apt-get install openjdk-11-jdk-headless -qq > /dev/null\n",
        "!wget -q http://www-us.apache.org/dist/spark/$SPARK_VERSION/$SPARK_VERSION-bin-hadoop2.7.tgz\n",
        "!tar xf $SPARK_VERSION-bin-hadoop2.7.tgz\n",
        "!pip install -q findspark\n",
        "\n",
        "# Set Environment Variables\n",
        "import os\n",
        "os.environ[\"JAVA_HOME\"] = \"/usr/lib/jvm/java-11-openjdk-amd64\"\n",
        "os.environ[\"SPARK_HOME\"] = f\"/content/{spark_version}-bin-hadoop2.7\"\n",
        "\n",
        "# Start a SparkSession\n",
        "import findspark\n",
        "findspark.init()"
      ],
      "execution_count": 1,
      "outputs": [
        {
          "output_type": "stream",
          "text": [
            "\r0% [Working]\r            \rGet:1 https://cloud.r-project.org/bin/linux/ubuntu bionic-cran40/ InRelease [3,626 B]\n",
            "\r0% [Connecting to archive.ubuntu.com (91.189.88.142)] [Waiting for headers] [1 \r0% [Connecting to archive.ubuntu.com (91.189.88.142)] [Waiting for headers] [Co\r                                                                               \rGet:2 http://security.ubuntu.com/ubuntu bionic-security InRelease [88.7 kB]\n",
            "\r0% [Connecting to archive.ubuntu.com (91.189.88.142)] [2 InRelease 14.2 kB/88.7\r0% [1 InRelease gpgv 3,626 B] [Connecting to archive.ubuntu.com (91.189.88.142)\r                                                                               \rIgn:3 https://developer.download.nvidia.com/compute/cuda/repos/ubuntu1804/x86_64  InRelease\n",
            "\r0% [1 InRelease gpgv 3,626 B] [Connecting to archive.ubuntu.com (91.189.88.142)\r                                                                               \rIgn:4 https://developer.download.nvidia.com/compute/machine-learning/repos/ubuntu1804/x86_64  InRelease\n",
            "\r0% [1 InRelease gpgv 3,626 B] [Waiting for headers] [2 InRelease 43.1 kB/88.7 k\r0% [1 InRelease gpgv 3,626 B] [Waiting for headers] [Waiting for headers] [Wait\r                                                                               \rGet:5 https://developer.download.nvidia.com/compute/cuda/repos/ubuntu1804/x86_64  Release [697 B]\n",
            "Hit:6 https://developer.download.nvidia.com/compute/machine-learning/repos/ubuntu1804/x86_64  Release\n",
            "Get:7 https://developer.download.nvidia.com/compute/cuda/repos/ubuntu1804/x86_64  Release.gpg [836 B]\n",
            "Get:8 http://ppa.launchpad.net/c2d4u.team/c2d4u4.0+/ubuntu bionic InRelease [15.9 kB]\n",
            "Hit:9 http://archive.ubuntu.com/ubuntu bionic InRelease\n",
            "Get:10 http://archive.ubuntu.com/ubuntu bionic-updates InRelease [88.7 kB]\n",
            "Hit:11 http://ppa.launchpad.net/cran/libgit2/ubuntu bionic InRelease\n",
            "Get:12 http://security.ubuntu.com/ubuntu bionic-security/restricted amd64 Packages [396 kB]\n",
            "Hit:13 http://ppa.launchpad.net/deadsnakes/ppa/ubuntu bionic InRelease\n",
            "Get:14 http://archive.ubuntu.com/ubuntu bionic-backports InRelease [74.6 kB]\n",
            "Get:15 http://security.ubuntu.com/ubuntu bionic-security/multiverse amd64 Packages [24.7 kB]\n",
            "Get:16 http://security.ubuntu.com/ubuntu bionic-security/main amd64 Packages [2,116 kB]\n",
            "Hit:17 http://ppa.launchpad.net/graphics-drivers/ppa/ubuntu bionic InRelease\n",
            "Ign:19 https://developer.download.nvidia.com/compute/cuda/repos/ubuntu1804/x86_64  Packages\n",
            "Get:19 https://developer.download.nvidia.com/compute/cuda/repos/ubuntu1804/x86_64  Packages [741 kB]\n",
            "Get:20 http://ppa.launchpad.net/c2d4u.team/c2d4u4.0+/ubuntu bionic/main Sources [1,756 kB]\n",
            "Get:21 http://archive.ubuntu.com/ubuntu bionic-updates/restricted amd64 Packages [426 kB]\n",
            "Get:22 http://archive.ubuntu.com/ubuntu bionic-updates/multiverse amd64 Packages [31.6 kB]\n",
            "Get:23 http://archive.ubuntu.com/ubuntu bionic-updates/main amd64 Packages [2,546 kB]\n",
            "Get:24 http://ppa.launchpad.net/c2d4u.team/c2d4u4.0+/ubuntu bionic/main amd64 Packages [899 kB]\n",
            "Get:25 http://archive.ubuntu.com/ubuntu bionic-updates/universe amd64 Packages [2,181 kB]\n",
            "Fetched 11.4 MB in 4s (2,912 kB/s)\n",
            "Reading package lists... Done\n"
          ],
          "name": "stdout"
        }
      ]
    },
    {
      "cell_type": "code",
      "metadata": {
        "id": "qULgjk1Qs-OG"
      },
      "source": [
        "# Start a spark session\n",
        "from pyspark.sql import SparkSession\n",
        "spark = SparkSession.builder.appName(\"Vine_Review_Analysis\").getOrCreate()"
      ],
      "execution_count": 3,
      "outputs": []
    },
    {
      "cell_type": "code",
      "metadata": {
        "id": "syPJAb6TnLkF",
        "colab": {
          "base_uri": "https://localhost:8080/"
        },
        "outputId": "20735315-43f5-4867-9db2-af91a7f1bc3d"
      },
      "source": [
        "from pyspark import SparkFiles\n",
        "url = \"https://s3.amazonaws.com/amazon-reviews-pds/tsv/amazon_reviews_us_Pet_Products_v1_00.tsv.gz\"\n",
        "spark.sparkContext.addFile(url)\n",
        "df = spark.read.option(\"encoding\", \"UTF-8\").csv(SparkFiles.get(\"\"), sep=\"\\t\", header=True, inferSchema=True)\n",
        "df.show(5)"
      ],
      "execution_count": 4,
      "outputs": [
        {
          "output_type": "stream",
          "text": [
            "+-----------+-----------+--------------+----------+--------------+--------------------+----------------+-----------+-------------+-----------+----+-----------------+--------------------+--------------------+-----------+\n",
            "|marketplace|customer_id|     review_id|product_id|product_parent|       product_title|product_category|star_rating|helpful_votes|total_votes|vine|verified_purchase|     review_headline|         review_body|review_date|\n",
            "+-----------+-----------+--------------+----------+--------------+--------------------+----------------+-----------+-------------+-----------+----+-----------------+--------------------+--------------------+-----------+\n",
            "|         US|   28794885| REAKC26P07MDN|B00Q0K9604|     510387886|(8-Pack) EZwhelp ...|    Pet Products|          5|            0|          0|   N|                Y|A great purchase ...|Best belly bands ...| 2015-08-31|\n",
            "|         US|   11488901|R3NU7OMZ4HQIEG|B00MBW5O9W|     912374672|Warren Eckstein's...|    Pet Products|          2|            0|          1|   N|                Y|My dogs love Hugs...|My dogs love Hugs...| 2015-08-31|\n",
            "|         US|   43214993|R14QJW3XF8QO1P|B0084OHUIO|     902215727|Tyson's True Chew...|    Pet Products|          5|            0|          0|   N|                Y|I have been purch...|I have been purch...| 2015-08-31|\n",
            "|         US|   12835065|R2HB7AX0394ZGY|B001GS71K2|     568880110|Soft Side Pet Cra...|    Pet Products|          5|            0|          0|   N|                Y|it is easy to ope...|It is extremely w...| 2015-08-31|\n",
            "|         US|   26334022| RGKMPDQGSAHR3|B004ABH1LG|     692846826|EliteField 3-Door...|    Pet Products|          5|            0|          0|   N|                Y|           Dog crate|Worked really wel...| 2015-08-31|\n",
            "+-----------+-----------+--------------+----------+--------------+--------------------+----------------+-----------+-------------+-----------+----+-----------------+--------------------+--------------------+-----------+\n",
            "only showing top 5 rows\n",
            "\n"
          ],
          "name": "stdout"
        }
      ]
    },
    {
      "cell_type": "code",
      "metadata": {
        "colab": {
          "base_uri": "https://localhost:8080/"
        },
        "id": "hdsQFnJmsisf",
        "outputId": "056dcb90-d457-4cb5-d6f1-2b3ba9633f8e"
      },
      "source": [
        "# Filter the data to show reviews with 20 or more total_votes. \n",
        "reviews_20_votes_or_more_df = df.filter(\"total_votes >= 20\")\n",
        "reviews_20_votes_or_more_df.show(50)"
      ],
      "execution_count": 9,
      "outputs": [
        {
          "output_type": "stream",
          "text": [
            "+-----------+-----------+--------------+----------+--------------+--------------------+----------------+-----------+-------------+-----------+----+-----------------+--------------------+--------------------+-----------+\n",
            "|marketplace|customer_id|     review_id|product_id|product_parent|       product_title|product_category|star_rating|helpful_votes|total_votes|vine|verified_purchase|     review_headline|         review_body|review_date|\n",
            "+-----------+-----------+--------------+----------+--------------+--------------------+----------------+-----------+-------------+-----------+----+-----------------+--------------------+--------------------+-----------+\n",
            "|         US|   51227803|R21KC552Y6HL8X|B00E2E1XBK|     180836080|Kennel Deck - 3 Pack|    Pet Products|          1|           27|         31|   N|                Y|The picture is of...|The product add p...| 2015-08-31|\n",
            "|         US|   52747799| RX9WC9FTIR1XR|B00DZITYGU|     598776873|Grey Shark Bed fo...|    Pet Products|          5|           25|         25|   N|                Y|Two seconds flat ...|Once I set it up,...| 2015-08-31|\n",
            "|         US|   23340430| RGDCOU1KBHMNG|B00N9SL8SS|     721942363|Pet Rat Mouse Lea...|    Pet Products|          3|           29|         31|   N|                Y|        OK for Price|Easy enough to pu...| 2015-08-31|\n",
            "|         US|   48234208| RVTYWID2TPMMY|B00EB4IV2A|     140722056|Northmate Catch I...|    Pet Products|          2|           35|         42|   N|                Y|        Intimidating|Love the concept....| 2015-08-31|\n",
            "|         US|    2321625|R2CMPZ5VESGRLY|B00OC7661E|     664108863|4 Pets Large Dog ...|    Pet Products|          4|           27|         28|   N|                Y|Xl fits my 51 pou...|A little big on h...| 2015-08-31|\n",
            "|         US|   48415890|R3VQPJZ54B55BA|B0108LVGZI|     301347908|Medicated Oatmeal...|    Pet Products|          5|           62|         64|   N|                N|My Husky Says \"Th...|[[VIDEOID:2f1bbfc...| 2015-08-31|\n",
            "|         US|   47321827|R24QM6D7FEDZ5M|B00EB4IV2A|     140722056|Northmate Catch I...|    Pet Products|          2|           36|         43|   N|                Y|MINI SIZE IS QUIT...|Have been using t...| 2015-08-31|\n",
            "|         US|   53020738|R3A1VQ3SQDXEJ3|B00OLSARPK|     271494331|TEMPTATIONS SNACK...|    Pet Products|          5|           20|         20|   N|                Y|Fun for Even Less...|[[VIDEOID:4cc2a20...| 2015-08-31|\n",
            "|         US|   41141285|  R39GSNW76GYF|B00YS9HI7C|     821362342|Easyology Premium...|    Pet Products|          1|           20|         23|   N|                Y|Hole within 24 hours|I hate to be one ...| 2015-08-31|\n",
            "|         US|   51455033| RPJLR6MFDPXXE|B00Y841P12|     934091093|Merax Folding Cat...|    Pet Products|          5|           35|         36|   N|                Y|I LOVE THIS STROL...|My dog, Paris, is...| 2015-08-31|\n",
            "|         US|    2643042|R34X0ZGVB3YGYO|B00W6UJCLK|     871386528|ASPCA Booster Car...|    Pet Products|          5|           47|         47|   N|                Y|Awesome Awesome A...|I don't write rev...| 2015-08-31|\n",
            "|         US|   41369738|R2C9O1BOV14Q0Z|B00O19NFEO|     126534870|Paws & Pals Delux...|    Pet Products|          1|           62|         79|   N|                Y|      Not a good buy|This was my first...| 2015-08-31|\n",
            "|         US|   24128810| RM6ZH5J3XDNHK|B00XIKSN3K|     949305810|Tiger Tough Cat T...|    Pet Products|          5|           79|         87|   N|                Y|I now have the ha...|I just received t...| 2015-08-31|\n",
            "|         US|   14661359|R2E363K75EMW4K|B013AZV3IE|     602175668|6 Nano Luffy Mari...|    Pet Products|          5|           66|         69|   N|                Y|He responded quic...|This is soooo cut...| 2015-08-31|\n",
            "|         US|     481888|R2VJII8VKSJHDF|B00N8JTLZU|     677647123|Esky Dog Training...|    Pet Products|          1|           24|         29|   N|                N|FIRE HAZARD charg...|Good thing the GC...| 2015-08-31|\n",
            "|         US|   12148661|R2U35Y2P27M13E|B009SPYPKE|     332640550|Milliard Premium ...|    Pet Products|          1|           43|         45|   N|                Y|don't waste your ...|Do not waste your...| 2015-08-31|\n",
            "|         US|   31752493| RLMZOQL11VHBX|B000J2OH9Y|     352610242|Underwater River ...|    Pet Products|          5|           23|         24|   N|                Y|I just love it, I...|It's simple, I ju...| 2015-08-31|\n",
            "|         US|   28425377|R3C6CQQRRA8SYP|B00MW8G62E|     955723613|AmazonBasics Pet ...|    Pet Products|          5|           52|         58|   N|                Y|I LOVE these pads...|This product is t...| 2015-08-31|\n",
            "|         US|    2676347|R3T7YOX0AEDZL3|B004QN0MJQ|     589329694|Bayer Advantage I...|    Pet Products|          1|           45|         47|   N|                N|Afraid to use it ...|I used this brand...| 2015-08-31|\n",
            "|         US|   18430566|R176V3AYS3R4HG|B013SR7L62|     931410742|PETLESO Dog Shoes...|    Pet Products|          5|           26|         27|   N|                N|Great looking and...|These are pretty ...| 2015-08-31|\n",
            "|         US|   37207797|R1E5UU8JBUSHU2|B00GAZZIMY|     703793244|SureFlap DualScan...|    Pet Products|          5|           29|         29|   N|                Y|        1 cat, 2 cat|This purchase is ...| 2015-08-31|\n",
            "|         US|   49663422|R321IM5UIWSS1D|B00IKXSAEW|     378886171|Freedom No-Pull D...|    Pet Products|          5|           21|         22|   N|                Y|The first harness...|Believe me, I bou...| 2015-08-31|\n",
            "|         US|   28729145|R13RDDA84RN5UV|B011AY4JWO|     499241195|K9KONNECTION [New...|    Pet Products|          5|           72|         74|   N|                Y|my sweet boy has ...|I have never writ...| 2015-08-31|\n",
            "|         US|   31956842|R32GLCISSDQH58|B00DZVQAA0|     994756255|Super Aquatic UP-...|    Pet Products|          5|           21|         21|   N|                Y|    Worth the money!|Product delivers ...| 2015-08-31|\n",
            "|         US|   16043823|R1CTH7GVLL38AY|B0081XIJSS|     254295878|Poochpouch Dog Ca...|    Pet Products|          1|           32|         32|   N|                Y|Need to re-design...|The description &...| 2015-08-31|\n",
            "|         US|   20106133| RG3LJ7DIQBJGR|B00AE23Z88|     255073188|Marina Betta Subm...|    Pet Products|          5|           25|         27|   N|                Y|         Happy Betta|My roommates keep...| 2015-08-31|\n",
            "|         US|   12767631|R1TGQ0XRYWB31R|B0002DHO1I|     493229100|KONG Stuff-A-Ball...|    Pet Products|          1|          180|        185|   N|                Y|Didn't last for m...|The day I got thi...| 2015-08-31|\n",
            "|         US|   52832584|R2TEWA8TEJEQ8X|B00E1DVJKW|     134229819|Lixit Animal Care...|    Pet Products|          5|           22|         23|   N|                Y|Use a leash in ad...|Worked great for ...| 2015-08-31|\n",
            "|         US|   23826421|R2TQL1HTEI4EZU|B00DSAJBY0|     434727790|Purina Friskies C...|    Pet Products|          3|           22|         22|   N|                N|    Are you kidding?|Wrong priced.  Ab...| 2015-08-31|\n",
            "|         US|   49358505|R21PJI3GDT07QR|B010IHCCY6|     402447833|Petroad ColorPet ...|    Pet Products|          1|            0|         33|   N|                N|If you are this l...|These are for peo...| 2015-08-30|\n",
            "|         US|   49358505|R1B29BRR1EWHJY|B00A6M980A|     386137203|Training Pinch an...|    Pet Products|          1|            3|        120|   N|                N|If you are this l...|These are for peo...| 2015-08-30|\n",
            "|         US|    7397555|R37K0QVOC2GZB3|B00X6RLFGM|     136128210|ColorPet 330 Yard...|    Pet Products|          1|            0|         22|   N|                Y|            One Star|               Junk!| 2015-08-30|\n",
            "|         US|   42988619|R33PC7N3PUVAQH|B0048ZAKLW|     197368897|Jackson Galaxy So...|    Pet Products|          5|           66|         66|   N|                Y|   Hope for your cat|We have used this...| 2015-08-30|\n",
            "|         US|   41342710|R3VZWYDKS0YLUG|B00Y2TIDX6|     744115603|Furhaven NAP Terr...|    Pet Products|          1|           21|         22|   N|                Y|Not machine washa...|Instructions say ...| 2015-08-30|\n",
            "|         US|   17404863|R2S1973E6VUY2W|B00JBLGNZU|     345588525|Dog Breath Freshe...|    Pet Products|          1|           19|         23|   N|                Y|This product has ...|This product has ...| 2015-08-30|\n",
            "|         US|   33282631| RBN16XJ8RH467|B00QTGOIRA|     186025904|25+ stems / 6 spe...|    Pet Products|          5|           47|         49|   N|                Y|Wonderful Plants,...|These plants are ...| 2015-08-30|\n",
            "|         US|   49358505| RIFOBQTNV5JDO|B00AIACW3A|     860138251|Herm Sprenger Sta...|    Pet Products|          1|            0|         21|   N|                N|If you are this l...|These are for peo...| 2015-08-30|\n",
            "|         US|   14367269|R2WYZJIBXGPZ5N|B00C5TUVXU|     387693310|Original KITTY CO...|    Pet Products|          1|           16|         20|   N|                Y|Didn't last one s...|Followed instruct...| 2015-08-30|\n",
            "|         US|   49358505| R5IG091TU8THK|B00N4B1BNW|     146535233|Sprenger Black St...|    Pet Products|          1|            0|         66|   N|                N|If you are this l...|These are for peo...| 2015-08-30|\n",
            "|         US|   50251464| RZN3XAWNQXV6E|B010H18PE4|     725883898|Slow Feed Dog Bow...|    Pet Products|          3|           18|         21|   N|                N|Neat designed but...|So I have a 75lb ...| 2015-08-30|\n",
            "|         US|   49358505|R3ODEER3OQESGF|B0006L0UGW|     127779268|Herm Sprenger Ult...|    Pet Products|          1|            0|         31|   N|                N|If you are this l...|These are for peo...| 2015-08-30|\n",
            "|         US|   35995772|R2PIZSZBU9M14L|B00SC097ZY|     199489648|Emmy's Best Premi...|    Pet Products|          5|           17|         21|   N|                N|No More Stinky Br...|My dog's breath i...| 2015-08-30|\n",
            "|         US|   17660506|R3SGZ8UX8DLE7W|B00MYDSCOC|     143949017|Single Door Metal...|    Pet Products|          5|           27|         27|   N|                Y|I imagine this to...|Lovely color. We'...| 2015-08-30|\n",
            "|         US|   12148903| R3K4H9MOB4718|B00FG0U9MS|     814476206|IRIS Open Top Cat...|    Pet Products|          5|          408|        413|   N|                Y|Buy this right me...|Oh man, this poop...| 2015-08-30|\n",
            "|         US|    1792911|R2G22S7T3C568V|B007ZPX70I|     309219413|World's Best Cat ...|    Pet Products|          5|           25|         27|   N|                Y|Upgrade the litte...|I used to work at...| 2015-08-30|\n",
            "|         US|   52521538|R1L1UF1IWWNEFK|B00RP047QQ|     707496697|U-pet Innovative ...|    Pet Products|          4|           35|         38|   N|                Y|My cat is abut 18...|My cat is abut 18...| 2015-08-30|\n",
            "|         US|   42944104|R3RPIQWWOFGIC4|B00F9QMC06|     283851346|Gooby Choke Free ...|    Pet Products|          5|           35|         35|   N|                N|       Great harness|High quality, cut...| 2015-08-30|\n",
            "|         US|   13002487| RFJ2B085AJDLV|B000EGVZE0|     488842109|Merry Products Wo...|    Pet Products|          5|           27|         28|   N|                N|Kitty n Doggie Spa!!|I purchased this ...| 2015-08-30|\n",
            "|         US|   14719322|R23I2JZB83RWUO|B00CPDWT2M|     653274178|Benebone Bacon Wi...|    Pet Products|          3|          109|        118|   N|                Y|Made my dog's mou...|My 50-lb doodle m...| 2015-08-30|\n",
            "|         US|   19834430|R129Y7W9A6AL7E|B000XS6RJW|       1489886|Natural Balance L...|    Pet Products|          5|           23|         23|   N|                Y|The Healing Power...|This food has mad...| 2015-08-30|\n",
            "+-----------+-----------+--------------+----------+--------------+--------------------+----------------+-----------+-------------+-----------+----+-----------------+--------------------+--------------------+-----------+\n",
            "only showing top 50 rows\n",
            "\n"
          ],
          "name": "stdout"
        }
      ]
    },
    {
      "cell_type": "code",
      "metadata": {
        "colab": {
          "base_uri": "https://localhost:8080/"
        },
        "id": "rwdcwJJ6sjfl",
        "outputId": "cebc17d1-c530-4698-9a07-7ebc25b3a1a0"
      },
      "source": [
        "# \n",
        "helpful_reviews_20_votes_df = reviews_20_votes_or_more_df.filter(\"helpful_votes/total_votes >= .5\")\n",
        "helpful_reviews_20_votes_df.show(50)"
      ],
      "execution_count": 10,
      "outputs": [
        {
          "output_type": "stream",
          "text": [
            "+-----------+-----------+--------------+----------+--------------+--------------------+----------------+-----------+-------------+-----------+----+-----------------+--------------------+--------------------+-----------+\n",
            "|marketplace|customer_id|     review_id|product_id|product_parent|       product_title|product_category|star_rating|helpful_votes|total_votes|vine|verified_purchase|     review_headline|         review_body|review_date|\n",
            "+-----------+-----------+--------------+----------+--------------+--------------------+----------------+-----------+-------------+-----------+----+-----------------+--------------------+--------------------+-----------+\n",
            "|         US|   51227803|R21KC552Y6HL8X|B00E2E1XBK|     180836080|Kennel Deck - 3 Pack|    Pet Products|          1|           27|         31|   N|                Y|The picture is of...|The product add p...| 2015-08-31|\n",
            "|         US|   52747799| RX9WC9FTIR1XR|B00DZITYGU|     598776873|Grey Shark Bed fo...|    Pet Products|          5|           25|         25|   N|                Y|Two seconds flat ...|Once I set it up,...| 2015-08-31|\n",
            "|         US|   23340430| RGDCOU1KBHMNG|B00N9SL8SS|     721942363|Pet Rat Mouse Lea...|    Pet Products|          3|           29|         31|   N|                Y|        OK for Price|Easy enough to pu...| 2015-08-31|\n",
            "|         US|   48234208| RVTYWID2TPMMY|B00EB4IV2A|     140722056|Northmate Catch I...|    Pet Products|          2|           35|         42|   N|                Y|        Intimidating|Love the concept....| 2015-08-31|\n",
            "|         US|    2321625|R2CMPZ5VESGRLY|B00OC7661E|     664108863|4 Pets Large Dog ...|    Pet Products|          4|           27|         28|   N|                Y|Xl fits my 51 pou...|A little big on h...| 2015-08-31|\n",
            "|         US|   48415890|R3VQPJZ54B55BA|B0108LVGZI|     301347908|Medicated Oatmeal...|    Pet Products|          5|           62|         64|   N|                N|My Husky Says \"Th...|[[VIDEOID:2f1bbfc...| 2015-08-31|\n",
            "|         US|   47321827|R24QM6D7FEDZ5M|B00EB4IV2A|     140722056|Northmate Catch I...|    Pet Products|          2|           36|         43|   N|                Y|MINI SIZE IS QUIT...|Have been using t...| 2015-08-31|\n",
            "|         US|   53020738|R3A1VQ3SQDXEJ3|B00OLSARPK|     271494331|TEMPTATIONS SNACK...|    Pet Products|          5|           20|         20|   N|                Y|Fun for Even Less...|[[VIDEOID:4cc2a20...| 2015-08-31|\n",
            "|         US|   41141285|  R39GSNW76GYF|B00YS9HI7C|     821362342|Easyology Premium...|    Pet Products|          1|           20|         23|   N|                Y|Hole within 24 hours|I hate to be one ...| 2015-08-31|\n",
            "|         US|   51455033| RPJLR6MFDPXXE|B00Y841P12|     934091093|Merax Folding Cat...|    Pet Products|          5|           35|         36|   N|                Y|I LOVE THIS STROL...|My dog, Paris, is...| 2015-08-31|\n",
            "|         US|    2643042|R34X0ZGVB3YGYO|B00W6UJCLK|     871386528|ASPCA Booster Car...|    Pet Products|          5|           47|         47|   N|                Y|Awesome Awesome A...|I don't write rev...| 2015-08-31|\n",
            "|         US|   41369738|R2C9O1BOV14Q0Z|B00O19NFEO|     126534870|Paws & Pals Delux...|    Pet Products|          1|           62|         79|   N|                Y|      Not a good buy|This was my first...| 2015-08-31|\n",
            "|         US|   24128810| RM6ZH5J3XDNHK|B00XIKSN3K|     949305810|Tiger Tough Cat T...|    Pet Products|          5|           79|         87|   N|                Y|I now have the ha...|I just received t...| 2015-08-31|\n",
            "|         US|   14661359|R2E363K75EMW4K|B013AZV3IE|     602175668|6 Nano Luffy Mari...|    Pet Products|          5|           66|         69|   N|                Y|He responded quic...|This is soooo cut...| 2015-08-31|\n",
            "|         US|     481888|R2VJII8VKSJHDF|B00N8JTLZU|     677647123|Esky Dog Training...|    Pet Products|          1|           24|         29|   N|                N|FIRE HAZARD charg...|Good thing the GC...| 2015-08-31|\n",
            "|         US|   12148661|R2U35Y2P27M13E|B009SPYPKE|     332640550|Milliard Premium ...|    Pet Products|          1|           43|         45|   N|                Y|don't waste your ...|Do not waste your...| 2015-08-31|\n",
            "|         US|   31752493| RLMZOQL11VHBX|B000J2OH9Y|     352610242|Underwater River ...|    Pet Products|          5|           23|         24|   N|                Y|I just love it, I...|It's simple, I ju...| 2015-08-31|\n",
            "|         US|   28425377|R3C6CQQRRA8SYP|B00MW8G62E|     955723613|AmazonBasics Pet ...|    Pet Products|          5|           52|         58|   N|                Y|I LOVE these pads...|This product is t...| 2015-08-31|\n",
            "|         US|    2676347|R3T7YOX0AEDZL3|B004QN0MJQ|     589329694|Bayer Advantage I...|    Pet Products|          1|           45|         47|   N|                N|Afraid to use it ...|I used this brand...| 2015-08-31|\n",
            "|         US|   18430566|R176V3AYS3R4HG|B013SR7L62|     931410742|PETLESO Dog Shoes...|    Pet Products|          5|           26|         27|   N|                N|Great looking and...|These are pretty ...| 2015-08-31|\n",
            "|         US|   37207797|R1E5UU8JBUSHU2|B00GAZZIMY|     703793244|SureFlap DualScan...|    Pet Products|          5|           29|         29|   N|                Y|        1 cat, 2 cat|This purchase is ...| 2015-08-31|\n",
            "|         US|   49663422|R321IM5UIWSS1D|B00IKXSAEW|     378886171|Freedom No-Pull D...|    Pet Products|          5|           21|         22|   N|                Y|The first harness...|Believe me, I bou...| 2015-08-31|\n",
            "|         US|   28729145|R13RDDA84RN5UV|B011AY4JWO|     499241195|K9KONNECTION [New...|    Pet Products|          5|           72|         74|   N|                Y|my sweet boy has ...|I have never writ...| 2015-08-31|\n",
            "|         US|   31956842|R32GLCISSDQH58|B00DZVQAA0|     994756255|Super Aquatic UP-...|    Pet Products|          5|           21|         21|   N|                Y|    Worth the money!|Product delivers ...| 2015-08-31|\n",
            "|         US|   16043823|R1CTH7GVLL38AY|B0081XIJSS|     254295878|Poochpouch Dog Ca...|    Pet Products|          1|           32|         32|   N|                Y|Need to re-design...|The description &...| 2015-08-31|\n",
            "|         US|   20106133| RG3LJ7DIQBJGR|B00AE23Z88|     255073188|Marina Betta Subm...|    Pet Products|          5|           25|         27|   N|                Y|         Happy Betta|My roommates keep...| 2015-08-31|\n",
            "|         US|   12767631|R1TGQ0XRYWB31R|B0002DHO1I|     493229100|KONG Stuff-A-Ball...|    Pet Products|          1|          180|        185|   N|                Y|Didn't last for m...|The day I got thi...| 2015-08-31|\n",
            "|         US|   52832584|R2TEWA8TEJEQ8X|B00E1DVJKW|     134229819|Lixit Animal Care...|    Pet Products|          5|           22|         23|   N|                Y|Use a leash in ad...|Worked great for ...| 2015-08-31|\n",
            "|         US|   23826421|R2TQL1HTEI4EZU|B00DSAJBY0|     434727790|Purina Friskies C...|    Pet Products|          3|           22|         22|   N|                N|    Are you kidding?|Wrong priced.  Ab...| 2015-08-31|\n",
            "|         US|   42988619|R33PC7N3PUVAQH|B0048ZAKLW|     197368897|Jackson Galaxy So...|    Pet Products|          5|           66|         66|   N|                Y|   Hope for your cat|We have used this...| 2015-08-30|\n",
            "|         US|   41342710|R3VZWYDKS0YLUG|B00Y2TIDX6|     744115603|Furhaven NAP Terr...|    Pet Products|          1|           21|         22|   N|                Y|Not machine washa...|Instructions say ...| 2015-08-30|\n",
            "|         US|   17404863|R2S1973E6VUY2W|B00JBLGNZU|     345588525|Dog Breath Freshe...|    Pet Products|          1|           19|         23|   N|                Y|This product has ...|This product has ...| 2015-08-30|\n",
            "|         US|   33282631| RBN16XJ8RH467|B00QTGOIRA|     186025904|25+ stems / 6 spe...|    Pet Products|          5|           47|         49|   N|                Y|Wonderful Plants,...|These plants are ...| 2015-08-30|\n",
            "|         US|   14367269|R2WYZJIBXGPZ5N|B00C5TUVXU|     387693310|Original KITTY CO...|    Pet Products|          1|           16|         20|   N|                Y|Didn't last one s...|Followed instruct...| 2015-08-30|\n",
            "|         US|   50251464| RZN3XAWNQXV6E|B010H18PE4|     725883898|Slow Feed Dog Bow...|    Pet Products|          3|           18|         21|   N|                N|Neat designed but...|So I have a 75lb ...| 2015-08-30|\n",
            "|         US|   35995772|R2PIZSZBU9M14L|B00SC097ZY|     199489648|Emmy's Best Premi...|    Pet Products|          5|           17|         21|   N|                N|No More Stinky Br...|My dog's breath i...| 2015-08-30|\n",
            "|         US|   17660506|R3SGZ8UX8DLE7W|B00MYDSCOC|     143949017|Single Door Metal...|    Pet Products|          5|           27|         27|   N|                Y|I imagine this to...|Lovely color. We'...| 2015-08-30|\n",
            "|         US|   12148903| R3K4H9MOB4718|B00FG0U9MS|     814476206|IRIS Open Top Cat...|    Pet Products|          5|          408|        413|   N|                Y|Buy this right me...|Oh man, this poop...| 2015-08-30|\n",
            "|         US|    1792911|R2G22S7T3C568V|B007ZPX70I|     309219413|World's Best Cat ...|    Pet Products|          5|           25|         27|   N|                Y|Upgrade the litte...|I used to work at...| 2015-08-30|\n",
            "|         US|   52521538|R1L1UF1IWWNEFK|B00RP047QQ|     707496697|U-pet Innovative ...|    Pet Products|          4|           35|         38|   N|                Y|My cat is abut 18...|My cat is abut 18...| 2015-08-30|\n",
            "|         US|   42944104|R3RPIQWWOFGIC4|B00F9QMC06|     283851346|Gooby Choke Free ...|    Pet Products|          5|           35|         35|   N|                N|       Great harness|High quality, cut...| 2015-08-30|\n",
            "|         US|   13002487| RFJ2B085AJDLV|B000EGVZE0|     488842109|Merry Products Wo...|    Pet Products|          5|           27|         28|   N|                N|Kitty n Doggie Spa!!|I purchased this ...| 2015-08-30|\n",
            "|         US|   14719322|R23I2JZB83RWUO|B00CPDWT2M|     653274178|Benebone Bacon Wi...|    Pet Products|          3|          109|        118|   N|                Y|Made my dog's mou...|My 50-lb doodle m...| 2015-08-30|\n",
            "|         US|   19834430|R129Y7W9A6AL7E|B000XS6RJW|       1489886|Natural Balance L...|    Pet Products|          5|           23|         23|   N|                Y|The Healing Power...|This food has mad...| 2015-08-30|\n",
            "|         US|   25311009|R2ZHXKX7U4VK2W|B00SC097ZY|     199489648|Emmy's Best Premi...|    Pet Products|          5|           29|         30|   N|                Y|   Excellent product|My dog has breath...| 2015-08-30|\n",
            "|         US|   35096107| RIWDEV108CQ5J|B006HKA6II|     401914962|Milk-Bone Soft an...|    Pet Products|          5|           36|         37|   N|                Y|My Yorkie hates m...|My little Yorkie ...| 2015-08-29|\n",
            "|         US|    4469088| RHYE6M25HPA6J|B007ZPX70I|     309219413|World's Best Cat ...|    Pet Products|          5|          140|        147|   N|                N|Appropriately nam...|So as a young chi...| 2015-08-29|\n",
            "|         US|   44759540|R3A71VR1JZD8WF|B00JGWN8O8|     378897034|Petcube Interacti...|    Pet Products|          2|           27|         30|   Y|                N|Great idea, not s...|I do not hate thi...| 2015-08-29|\n",
            "|         US|   11407678|R11KMA9XSTX2V9|B002R0F04M|     779199922|Lucky Dog Uptown ...|    Pet Products|          1|          123|        129|   N|                Y|We left our 29 lb...|We left our 29 lb...| 2015-08-29|\n",
            "|         US|   24095701| RWRIZFDITZUTE|B00KALX2PY|     647667660|Paws & Pals Airli...|    Pet Products|          5|           59|         59|   N|                Y|          Five Stars|* It has a small ...| 2015-08-29|\n",
            "+-----------+-----------+--------------+----------+--------------+--------------------+----------------+-----------+-------------+-----------+----+-----------------+--------------------+--------------------+-----------+\n",
            "only showing top 50 rows\n",
            "\n"
          ],
          "name": "stdout"
        }
      ]
    },
    {
      "cell_type": "code",
      "metadata": {
        "colab": {
          "base_uri": "https://localhost:8080/"
        },
        "id": "HTAizDJVvXve",
        "outputId": "88507dae-b742-4ff6-e5f9-883c1496bfa3"
      },
      "source": [
        "from pyspark.sql.functions import col\n",
        "\n",
        "paid_reviews_df = helpful_reviews_20_votes_df.filter(col(\"vine\") == \"Y\")\n",
        "paid_reviews_df.show(20)"
      ],
      "execution_count": 16,
      "outputs": [
        {
          "output_type": "stream",
          "text": [
            "+-----------+-----------+--------------+----------+--------------+--------------------+----------------+-----------+-------------+-----------+----+-----------------+--------------------+--------------------+-----------+\n",
            "|marketplace|customer_id|     review_id|product_id|product_parent|       product_title|product_category|star_rating|helpful_votes|total_votes|vine|verified_purchase|     review_headline|         review_body|review_date|\n",
            "+-----------+-----------+--------------+----------+--------------+--------------------+----------------+-----------+-------------+-----------+----+-----------------+--------------------+--------------------+-----------+\n",
            "|         US|   44759540|R3A71VR1JZD8WF|B00JGWN8O8|     378897034|Petcube Interacti...|    Pet Products|          2|           27|         30|   Y|                N|Great idea, not s...|I do not hate thi...| 2015-08-29|\n",
            "|         US|   37388532|R16OMUJIGI18JZ|B00IP05CUA|     833937853|Wellness Kittles ...|    Pet Products|          5|           72|         72|   Y|                N|My cats went craz...|My cats response ...| 2015-08-29|\n",
            "|         US|   51817707|R3TS8ZP2FHQ9XR|B00JGWN8O8|     378897034|Petcube Interacti...|    Pet Products|          5|           39|         42|   Y|                N|keeps my dogs ent...|The Petcube is a ...| 2015-08-25|\n",
            "|         US|   22429746|R2MHP919VZN7DI|B00TZMCB06|     941629379|  NUTRO Wet Cat Food|    Pet Products|          5|           29|         30|   Y|                N|If You Put it Out...|While this cat fo...| 2015-08-19|\n",
            "|         US|   36000673| RD2BCTVS59A5L|B00WO6MKXS|     435705464|Prevue Pet Produc...|    Pet Products|          2|           20|         20|   Y|                N|Good idea but not...|While this scratc...| 2015-08-14|\n",
            "|         US|   53032062|R1JUJLXQ2CMWKF|B00MU368KQ|      17103237|Havahart Wireless...|    Pet Products|          4|           25|         26|   Y|                N|compared to petsa...|DISCLAIMER: The 3...| 2015-08-11|\n",
            "|         US|   48391502|R2T7YE0IFI6N9L|B012VLBWXY|     753958294|OurPets Catty Wha...|    Pet Products|          3|           24|         25|   Y|                N|Broke within minu...|I really, really ...| 2015-08-10|\n",
            "|         US|   52702539|R25FI3J7WWOYXM|B00YWPHX9K|     561320988|Instinct Freeze D...|    Pet Products|          3|           55|         58|   Y|                N|Vague sourcing of...|This dog treat/mi...| 2015-07-04|\n",
            "|         US|   53032850|R3P3U4EOWIUD50|B00YWPHX9K|     561320988|Instinct Freeze D...|    Pet Products|          3|           27|         36|   Y|                N|Does my dog reall...|First of all, I h...| 2015-07-03|\n",
            "|         US|   20389093|R3C7MKX7MO6XUC|B00QHC041A|     315639496|AmazonBasics Seat...|    Pet Products|          5|          216|        219|   Y|                N|Makes the back se...|[[VIDEOID:a514b57...| 2015-06-29|\n",
            "|         US|   52756261|R1DFDDK1ZWKN3D|B00YX3HZDU|     523460382|Purina Friskies P...|    Pet Products|          2|           61|         65|   Y|                N|Treats seem to be...|We have two cats,...| 2015-06-27|\n",
            "|         US|   50079351|R38G7BRBA2LGGV|B00QHC02EY|     315639496|AmazonBasics Seat...|    Pet Products|          3|           47|         54|   Y|                N|Black Color and w...|This is a very ni...| 2015-06-26|\n",
            "|         US|   20594005|R2XQXWNEBSB9WO|B00YX3HZDU|     523460382|Purina Friskies P...|    Pet Products|          4|           52|         56|   Y|                N|Give it a few day...|It appears I now ...| 2015-06-25|\n",
            "|         US|   51981238|R1UFK241B2KN48|B00QHC01C2|     328807429|AmazonBasics Soft...|    Pet Products|          4|          375|        378|   Y|                N|Excellent value f...|I tried this carr...| 2015-06-24|\n",
            "|         US|   32119008|R3H9CGK58BVHI5|B00SFW0LHM|     739390659|Motorola WIRELESS...|    Pet Products|          4|           42|         46|   Y|                N|   Take it with you!|I have used the p...| 2015-06-22|\n",
            "|         US|   35391116|R3FKBT77ZTUPLQ|B00SX2N2U2|     960147450|Nature's Miracle ...|    Pet Products|          5|           15|         20|   Y|                N|Great for humans ...|We love Nature's ...| 2015-06-22|\n",
            "|         US|   40283626|R3NSXBUR3O1CE8|B00QU6C3TO|     242265865|OurPets SmartScoo...|    Pet Products|          5|           21|         22|   Y|                N|Multiple Cat Hous...|We are a multiple...| 2015-06-20|\n",
            "|         US|   50930668|R13JI50KH7BTBU|B00QU6C3TO|     242265865|OurPets SmartScoo...|    Pet Products|          4|           29|         30|   Y|                N|Comparable to Lit...|We’ve currently g...| 2015-06-16|\n",
            "|         US|   36143788|R2LWQUQ6KB5ZN5|B00MW8G62E|     955723613|AmazonBasics Pet ...|    Pet Products|          4|           29|         36|   Y|                Y|Has some issues, ...|I have been using...| 2015-06-15|\n",
            "|         US|   52894345|R1JORBU2J7HG3H|B00SX2N2U2|     960147450|Nature's Miracle ...|    Pet Products|          5|           22|         25|   Y|                N|Surprisingly, it ...|Both my son and I...| 2015-06-14|\n",
            "+-----------+-----------+--------------+----------+--------------+--------------------+----------------+-----------+-------------+-----------+----+-----------------+--------------------+--------------------+-----------+\n",
            "only showing top 20 rows\n",
            "\n"
          ],
          "name": "stdout"
        }
      ]
    },
    {
      "cell_type": "code",
      "metadata": {
        "colab": {
          "base_uri": "https://localhost:8080/"
        },
        "id": "FuG6S1VHvtTD",
        "outputId": "3153587e-b29a-458c-e2a9-87c0b76e1610"
      },
      "source": [
        "unpaid_reviews_df = helpful_reviews_20_votes_df.filter(col(\"vine\") == \"N\")\n",
        "unpaid_reviews_df.show(20)"
      ],
      "execution_count": 17,
      "outputs": [
        {
          "output_type": "stream",
          "text": [
            "+-----------+-----------+--------------+----------+--------------+--------------------+----------------+-----------+-------------+-----------+----+-----------------+--------------------+--------------------+-----------+\n",
            "|marketplace|customer_id|     review_id|product_id|product_parent|       product_title|product_category|star_rating|helpful_votes|total_votes|vine|verified_purchase|     review_headline|         review_body|review_date|\n",
            "+-----------+-----------+--------------+----------+--------------+--------------------+----------------+-----------+-------------+-----------+----+-----------------+--------------------+--------------------+-----------+\n",
            "|         US|   51227803|R21KC552Y6HL8X|B00E2E1XBK|     180836080|Kennel Deck - 3 Pack|    Pet Products|          1|           27|         31|   N|                Y|The picture is of...|The product add p...| 2015-08-31|\n",
            "|         US|   52747799| RX9WC9FTIR1XR|B00DZITYGU|     598776873|Grey Shark Bed fo...|    Pet Products|          5|           25|         25|   N|                Y|Two seconds flat ...|Once I set it up,...| 2015-08-31|\n",
            "|         US|   23340430| RGDCOU1KBHMNG|B00N9SL8SS|     721942363|Pet Rat Mouse Lea...|    Pet Products|          3|           29|         31|   N|                Y|        OK for Price|Easy enough to pu...| 2015-08-31|\n",
            "|         US|   48234208| RVTYWID2TPMMY|B00EB4IV2A|     140722056|Northmate Catch I...|    Pet Products|          2|           35|         42|   N|                Y|        Intimidating|Love the concept....| 2015-08-31|\n",
            "|         US|    2321625|R2CMPZ5VESGRLY|B00OC7661E|     664108863|4 Pets Large Dog ...|    Pet Products|          4|           27|         28|   N|                Y|Xl fits my 51 pou...|A little big on h...| 2015-08-31|\n",
            "|         US|   48415890|R3VQPJZ54B55BA|B0108LVGZI|     301347908|Medicated Oatmeal...|    Pet Products|          5|           62|         64|   N|                N|My Husky Says \"Th...|[[VIDEOID:2f1bbfc...| 2015-08-31|\n",
            "|         US|   47321827|R24QM6D7FEDZ5M|B00EB4IV2A|     140722056|Northmate Catch I...|    Pet Products|          2|           36|         43|   N|                Y|MINI SIZE IS QUIT...|Have been using t...| 2015-08-31|\n",
            "|         US|   53020738|R3A1VQ3SQDXEJ3|B00OLSARPK|     271494331|TEMPTATIONS SNACK...|    Pet Products|          5|           20|         20|   N|                Y|Fun for Even Less...|[[VIDEOID:4cc2a20...| 2015-08-31|\n",
            "|         US|   41141285|  R39GSNW76GYF|B00YS9HI7C|     821362342|Easyology Premium...|    Pet Products|          1|           20|         23|   N|                Y|Hole within 24 hours|I hate to be one ...| 2015-08-31|\n",
            "|         US|   51455033| RPJLR6MFDPXXE|B00Y841P12|     934091093|Merax Folding Cat...|    Pet Products|          5|           35|         36|   N|                Y|I LOVE THIS STROL...|My dog, Paris, is...| 2015-08-31|\n",
            "|         US|    2643042|R34X0ZGVB3YGYO|B00W6UJCLK|     871386528|ASPCA Booster Car...|    Pet Products|          5|           47|         47|   N|                Y|Awesome Awesome A...|I don't write rev...| 2015-08-31|\n",
            "|         US|   41369738|R2C9O1BOV14Q0Z|B00O19NFEO|     126534870|Paws & Pals Delux...|    Pet Products|          1|           62|         79|   N|                Y|      Not a good buy|This was my first...| 2015-08-31|\n",
            "|         US|   24128810| RM6ZH5J3XDNHK|B00XIKSN3K|     949305810|Tiger Tough Cat T...|    Pet Products|          5|           79|         87|   N|                Y|I now have the ha...|I just received t...| 2015-08-31|\n",
            "|         US|   14661359|R2E363K75EMW4K|B013AZV3IE|     602175668|6 Nano Luffy Mari...|    Pet Products|          5|           66|         69|   N|                Y|He responded quic...|This is soooo cut...| 2015-08-31|\n",
            "|         US|     481888|R2VJII8VKSJHDF|B00N8JTLZU|     677647123|Esky Dog Training...|    Pet Products|          1|           24|         29|   N|                N|FIRE HAZARD charg...|Good thing the GC...| 2015-08-31|\n",
            "|         US|   12148661|R2U35Y2P27M13E|B009SPYPKE|     332640550|Milliard Premium ...|    Pet Products|          1|           43|         45|   N|                Y|don't waste your ...|Do not waste your...| 2015-08-31|\n",
            "|         US|   31752493| RLMZOQL11VHBX|B000J2OH9Y|     352610242|Underwater River ...|    Pet Products|          5|           23|         24|   N|                Y|I just love it, I...|It's simple, I ju...| 2015-08-31|\n",
            "|         US|   28425377|R3C6CQQRRA8SYP|B00MW8G62E|     955723613|AmazonBasics Pet ...|    Pet Products|          5|           52|         58|   N|                Y|I LOVE these pads...|This product is t...| 2015-08-31|\n",
            "|         US|    2676347|R3T7YOX0AEDZL3|B004QN0MJQ|     589329694|Bayer Advantage I...|    Pet Products|          1|           45|         47|   N|                N|Afraid to use it ...|I used this brand...| 2015-08-31|\n",
            "|         US|   18430566|R176V3AYS3R4HG|B013SR7L62|     931410742|PETLESO Dog Shoes...|    Pet Products|          5|           26|         27|   N|                N|Great looking and...|These are pretty ...| 2015-08-31|\n",
            "+-----------+-----------+--------------+----------+--------------+--------------------+----------------+-----------+-------------+-----------+----+-----------------+--------------------+--------------------+-----------+\n",
            "only showing top 20 rows\n",
            "\n"
          ],
          "name": "stdout"
        }
      ]
    },
    {
      "cell_type": "code",
      "metadata": {
        "colab": {
          "base_uri": "https://localhost:8080/"
        },
        "id": "MXHcHrcmxi_U",
        "outputId": "0bbf53b2-bdf5-4da9-aec7-b11d8940c7c0"
      },
      "source": [
        "total_reviews = helpful_reviews_20_votes_df.select(\"review_id\").count()\n",
        "total_reviews"
      ],
      "execution_count": 18,
      "outputs": [
        {
          "output_type": "execute_result",
          "data": {
            "text/plain": [
              "38010"
            ]
          },
          "metadata": {
            "tags": []
          },
          "execution_count": 18
        }
      ]
    },
    {
      "cell_type": "code",
      "metadata": {
        "colab": {
          "base_uri": "https://localhost:8080/"
        },
        "id": "FrW39TlcypMR",
        "outputId": "2421a929-125d-489d-d65c-02b4919ed2fe"
      },
      "source": [
        "five_star_reviews = helpful_reviews_20_votes_df.filter(\"star_rating == 5\").count()\n",
        "five_star_reviews"
      ],
      "execution_count": 22,
      "outputs": [
        {
          "output_type": "execute_result",
          "data": {
            "text/plain": [
              "20677"
            ]
          },
          "metadata": {
            "tags": []
          },
          "execution_count": 22
        }
      ]
    },
    {
      "cell_type": "code",
      "metadata": {
        "colab": {
          "base_uri": "https://localhost:8080/"
        },
        "id": "5R-5Obs8yuZO",
        "outputId": "3c739445-dca4-4893-b948-febf61c6153d"
      },
      "source": [
        "paid_five_star_reviews = paid_reviews_df.filter(\"star_rating == 5\").count()\n",
        "paid_five_star_reviews"
      ],
      "execution_count": 24,
      "outputs": [
        {
          "output_type": "execute_result",
          "data": {
            "text/plain": [
              "65"
            ]
          },
          "metadata": {
            "tags": []
          },
          "execution_count": 24
        }
      ]
    },
    {
      "cell_type": "code",
      "metadata": {
        "colab": {
          "base_uri": "https://localhost:8080/"
        },
        "id": "_-4CbxBFzQ7g",
        "outputId": "1599ceea-57da-4ef3-805f-21ffe8ae81e2"
      },
      "source": [
        "unpaid_five_star_reviews = unpaid_reviews_df.filter(\"star_rating == 5\").count()\n",
        "unpaid_five_star_reviews"
      ],
      "execution_count": 25,
      "outputs": [
        {
          "output_type": "execute_result",
          "data": {
            "text/plain": [
              "20612"
            ]
          },
          "metadata": {
            "tags": []
          },
          "execution_count": 25
        }
      ]
    },
    {
      "cell_type": "code",
      "metadata": {
        "colab": {
          "base_uri": "https://localhost:8080/"
        },
        "id": "20zHnBkqzj3W",
        "outputId": "e0245817-d168-4e53-b92b-1f1d939c928f"
      },
      "source": [
        "count_paid_reviews = paid_reviews_df.select(\"review_id\").count()\n",
        "count_paid_reviews"
      ],
      "execution_count": 27,
      "outputs": [
        {
          "output_type": "execute_result",
          "data": {
            "text/plain": [
              "170"
            ]
          },
          "metadata": {
            "tags": []
          },
          "execution_count": 27
        }
      ]
    }
  ]
}